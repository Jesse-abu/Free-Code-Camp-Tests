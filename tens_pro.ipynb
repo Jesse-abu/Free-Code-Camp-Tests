{
  "nbformat": 4,
  "nbformat_minor": 0,
  "metadata": {
    "colab": {
      "provenance": [],
      "authorship_tag": "ABX9TyONMGG9550Vrbkei17SECOU",
      "include_colab_link": true
    },
    "kernelspec": {
      "name": "python3",
      "display_name": "Python 3"
    },
    "language_info": {
      "name": "python"
    }
  },
  "cells": [
    {
      "cell_type": "markdown",
      "metadata": {
        "id": "view-in-github",
        "colab_type": "text"
      },
      "source": [
        "<a href=\"https://colab.research.google.com/github/Jesse-abu/ML-projects/blob/main/tens_pro.ipynb\" target=\"_parent\"><img src=\"https://colab.research.google.com/assets/colab-badge.svg\" alt=\"Open In Colab\"/></a>"
      ]
    },
    {
      "cell_type": "code",
      "execution_count": null,
      "metadata": {
        "colab": {
          "base_uri": "https://localhost:8080/"
        },
        "id": "7HeWo1vfAXda",
        "outputId": "765ec238-35da-491b-fc1d-38acd2f14874"
      },
      "outputs": [
        {
          "output_type": "stream",
          "name": "stdout",
          "text": [
            "tf.Tensor(2.5, shape=(), dtype=float32)\n"
          ]
        }
      ],
      "source": [
        "import tensorflow as tf\n",
        "from tensorflow import keras\n",
        "import tensorflow_probability as tfp\n",
        "\n",
        "import pandas as pd\n",
        "import numpy as np\n",
        "\n",
        "tfd = tfp.distributions\n",
        "h, c = [0.5, 0.5]\n",
        "initdist = tfd.Categorical(probs=[0.5, 0.25, 0.25])\n",
        "transition = tfd.Categorical(probs=[[0.7, 0.3, 0.2],\n",
        "                                    [0.8, 0.1, 0.1],\n",
        "                                    [0.05, 0.9, 0.05]])\n",
        "observe = tfd.Normal(loc=[1., 3., 5.], scale=[2., 6., 10.],)\n",
        "num_step = 100\n",
        "\n",
        "term = tfd.HiddenMarkovModel(initdist, transition, observe, num_steps=num_step)\n",
        "print(max(term.mean()))"
      ]
    }
  ]
}