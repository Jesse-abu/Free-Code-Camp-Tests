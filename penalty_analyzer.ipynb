{
  "nbformat": 4,
  "nbformat_minor": 0,
  "metadata": {
    "colab": {
      "provenance": [],
      "toc_visible": true,
      "authorship_tag": "ABX9TyP4y4uujUEmHM5Ww7ZdZtHB",
      "include_colab_link": true
    },
    "kernelspec": {
      "name": "python3",
      "display_name": "Python 3"
    },
    "language_info": {
      "name": "python"
    }
  },
  "cells": [
    {
      "cell_type": "markdown",
      "metadata": {
        "id": "view-in-github",
        "colab_type": "text"
      },
      "source": [
        "<a href=\"https://colab.research.google.com/github/Jesse-abu/Free-Code-Camp-Tests/blob/main/penalty_analyzer.ipynb\" target=\"_parent\"><img src=\"https://colab.research.google.com/assets/colab-badge.svg\" alt=\"Open In Colab\"/></a>"
      ]
    },
    {
      "cell_type": "code",
      "execution_count": 46,
      "metadata": {
        "id": "9sZjBTNwq3NI",
        "colab": {
          "base_uri": "https://localhost:8080/"
        },
        "outputId": "cb853caa-8df2-4ec0-a6a8-7cf9f6814d4d"
      },
      "outputs": [
        {
          "output_type": "stream",
          "name": "stdout",
          "text": [
            "Drive already mounted at /content/drive; to attempt to forcibly remount, call drive.mount(\"/content/drive\", force_remount=True).\n"
          ]
        }
      ],
      "source": [
        "#import all important libraries\n",
        "import tensorflow as tf\n",
        "from tensorflow import keras\n",
        "import tensorflow_datasets as tfds\n",
        "from google.colab import drive\n",
        "from sklearn.preprocessing import LabelEncoder\n",
        "\n",
        "import numpy as np\n",
        "import matplotlib.pyplot as mplot\n",
        "import pandas as pd\n",
        "\n",
        "#access googles drives using drive.mount\n",
        "drive.mount('/content/drive')"
      ]
    },
    {
      "cell_type": "code",
      "source": [
        "#create a pandas dataframe\n",
        "df = pd.read_json('/content/drive/MyDrive/Colab_Notebooks/ronaldo_penalties.json')\n",
        "#remove useless data\n",
        "df.pop('match')\n",
        "#obtain labels\n",
        "goal = df.pop('outcome')"
      ],
      "metadata": {
        "id": "CHeB57uqdFbl"
      },
      "execution_count": 129,
      "outputs": []
    },
    {
      "cell_type": "code",
      "source": [
        "#unique identifiers for text data\n",
        "foot_cat = {'right':10, 'left':11}\n",
        "direction_cat = {'top-left':3, 'top-right':4, 'bottom-left':5, 'bottom-right':6, 'center':7}"
      ],
      "metadata": {
        "id": "L-yxAuAT7jUz"
      },
      "execution_count": 130,
      "outputs": []
    },
    {
      "cell_type": "code",
      "source": [
        "#preprocessing for model training\n",
        "def encoding(frame):\n",
        "  for col in frame:\n",
        "    frame[col] = frame[col].map(lambda x: foot_cat[x] if foot_cat.get(x) else direction_cat[x])\n",
        "  return frame\n",
        "\n",
        "#encode the dataframe\n",
        "df = encoding(df)"
      ],
      "metadata": {
        "collapsed": true,
        "id": "-iKH4-dIqWKl"
      },
      "execution_count": 131,
      "outputs": []
    },
    {
      "cell_type": "code",
      "source": [
        "#numpy arrays\n",
        "goal_array_encoded = np.where(goal == 'goal', 1, 0)\n",
        "df_array = np.array(df)"
      ],
      "metadata": {
        "collapsed": true,
        "id": "kpSW9gMVsAc6"
      },
      "execution_count": 133,
      "outputs": []
    },
    {
      "cell_type": "code",
      "source": [
        "dataset = tf.data.Dataset.from_tensor_slices((df_array, goal_array_encoded))"
      ],
      "metadata": {
        "id": "2nSqfoHrttBt"
      },
      "execution_count": 134,
      "outputs": []
    },
    {
      "cell_type": "code",
      "source": [
        "dataset = dataset.shuffle(len(df_array)).batch(1)"
      ],
      "metadata": {
        "id": "t49PlNamFAPA"
      },
      "execution_count": 138,
      "outputs": []
    },
    {
      "cell_type": "code",
      "source": [
        "model = keras.Sequential([\n",
        "    keras.layers.Dense(64, activation='relu'),\n",
        "    keras.layers.Dense(64, activation='relu'),\n",
        "    keras.layers.Dense(1, activation='sigmoid')\n",
        "])\n",
        "\n",
        "model.compile(optimizer='adam',\n",
        "              loss='binary_crossentropy',\n",
        "              metrics=['accuracy'])"
      ],
      "metadata": {
        "id": "tKh8YGzo1ipI"
      },
      "execution_count": 139,
      "outputs": []
    },
    {
      "cell_type": "code",
      "source": [
        "model.fit(dataset, epochs=15)"
      ],
      "metadata": {
        "colab": {
          "base_uri": "https://localhost:8080/"
        },
        "id": "PwDyjSMTstLy",
        "outputId": "100a90e6-dc2c-4e28-ede2-8362717899d1"
      },
      "execution_count": 157,
      "outputs": [
        {
          "output_type": "stream",
          "name": "stdout",
          "text": [
            "Epoch 1/15\n",
            "\u001b[1m207/207\u001b[0m \u001b[32m━━━━━━━━━━━━━━━━━━━━\u001b[0m\u001b[37m\u001b[0m \u001b[1m0s\u001b[0m 2ms/step - accuracy: 0.8612 - loss: 0.4211\n",
            "Epoch 2/15\n",
            "\u001b[1m207/207\u001b[0m \u001b[32m━━━━━━━━━━━━━━━━━━━━\u001b[0m\u001b[37m\u001b[0m \u001b[1m0s\u001b[0m 2ms/step - accuracy: 0.8115 - loss: 0.4915\n",
            "Epoch 3/15\n",
            "\u001b[1m207/207\u001b[0m \u001b[32m━━━━━━━━━━━━━━━━━━━━\u001b[0m\u001b[37m\u001b[0m \u001b[1m0s\u001b[0m 2ms/step - accuracy: 0.8275 - loss: 0.4683\n",
            "Epoch 4/15\n",
            "\u001b[1m207/207\u001b[0m \u001b[32m━━━━━━━━━━━━━━━━━━━━\u001b[0m\u001b[37m\u001b[0m \u001b[1m0s\u001b[0m 2ms/step - accuracy: 0.8283 - loss: 0.4628\n",
            "Epoch 5/15\n",
            "\u001b[1m207/207\u001b[0m \u001b[32m━━━━━━━━━━━━━━━━━━━━\u001b[0m\u001b[37m\u001b[0m \u001b[1m0s\u001b[0m 2ms/step - accuracy: 0.8286 - loss: 0.4690\n",
            "Epoch 6/15\n",
            "\u001b[1m207/207\u001b[0m \u001b[32m━━━━━━━━━━━━━━━━━━━━\u001b[0m\u001b[37m\u001b[0m \u001b[1m0s\u001b[0m 2ms/step - accuracy: 0.8911 - loss: 0.3524\n",
            "Epoch 7/15\n",
            "\u001b[1m207/207\u001b[0m \u001b[32m━━━━━━━━━━━━━━━━━━━━\u001b[0m\u001b[37m\u001b[0m \u001b[1m1s\u001b[0m 2ms/step - accuracy: 0.8361 - loss: 0.4587\n",
            "Epoch 8/15\n",
            "\u001b[1m207/207\u001b[0m \u001b[32m━━━━━━━━━━━━━━━━━━━━\u001b[0m\u001b[37m\u001b[0m \u001b[1m1s\u001b[0m 2ms/step - accuracy: 0.8127 - loss: 0.4901\n",
            "Epoch 9/15\n",
            "\u001b[1m207/207\u001b[0m \u001b[32m━━━━━━━━━━━━━━━━━━━━\u001b[0m\u001b[37m\u001b[0m \u001b[1m1s\u001b[0m 3ms/step - accuracy: 0.8472 - loss: 0.4431\n",
            "Epoch 10/15\n",
            "\u001b[1m207/207\u001b[0m \u001b[32m━━━━━━━━━━━━━━━━━━━━\u001b[0m\u001b[37m\u001b[0m \u001b[1m1s\u001b[0m 3ms/step - accuracy: 0.8235 - loss: 0.4734\n",
            "Epoch 11/15\n",
            "\u001b[1m207/207\u001b[0m \u001b[32m━━━━━━━━━━━━━━━━━━━━\u001b[0m\u001b[37m\u001b[0m \u001b[1m1s\u001b[0m 3ms/step - accuracy: 0.8544 - loss: 0.4192\n",
            "Epoch 12/15\n",
            "\u001b[1m207/207\u001b[0m \u001b[32m━━━━━━━━━━━━━━━━━━━━\u001b[0m\u001b[37m\u001b[0m \u001b[1m1s\u001b[0m 3ms/step - accuracy: 0.8404 - loss: 0.4443\n",
            "Epoch 13/15\n",
            "\u001b[1m207/207\u001b[0m \u001b[32m━━━━━━━━━━━━━━━━━━━━\u001b[0m\u001b[37m\u001b[0m \u001b[1m1s\u001b[0m 2ms/step - accuracy: 0.8112 - loss: 0.4900\n",
            "Epoch 14/15\n",
            "\u001b[1m207/207\u001b[0m \u001b[32m━━━━━━━━━━━━━━━━━━━━\u001b[0m\u001b[37m\u001b[0m \u001b[1m0s\u001b[0m 2ms/step - accuracy: 0.8625 - loss: 0.4056\n",
            "Epoch 15/15\n",
            "\u001b[1m207/207\u001b[0m \u001b[32m━━━━━━━━━━━━━━━━━━━━\u001b[0m\u001b[37m\u001b[0m \u001b[1m0s\u001b[0m 2ms/step - accuracy: 0.8525 - loss: 0.4251\n"
          ]
        },
        {
          "output_type": "execute_result",
          "data": {
            "text/plain": [
              "<keras.src.callbacks.history.History at 0x7d563d873210>"
            ]
          },
          "metadata": {},
          "execution_count": 157
        }
      ]
    },
    {
      "cell_type": "code",
      "source": [
        "print(model.history.history.keys())"
      ],
      "metadata": {
        "colab": {
          "base_uri": "https://localhost:8080/"
        },
        "id": "f9Gi3KbSYJrM",
        "outputId": "4a74ed95-85e3-4752-d876-8167d9e88a0d"
      },
      "execution_count": 159,
      "outputs": [
        {
          "output_type": "stream",
          "name": "stdout",
          "text": [
            "dict_keys(['accuracy', 'loss'])\n"
          ]
        }
      ]
    },
    {
      "cell_type": "code",
      "source": [
        "mplot.plot(model.history.history['loss'])\n",
        "mplot.title('model losses')\n",
        "mplot.ylabel('loss')\n",
        "mplot.xlabel('epoch')\n",
        "mplot.legend(['train', 'test'], loc='upper left')\n",
        "mplot.show()"
      ],
      "metadata": {
        "colab": {
          "base_uri": "https://localhost:8080/",
          "height": 472
        },
        "collapsed": true,
        "id": "KAfhHwYLW-iC",
        "outputId": "fdba9833-715f-4231-ec81-28bc4e8dbd8b"
      },
      "execution_count": 164,
      "outputs": [
        {
          "output_type": "display_data",
          "data": {
            "text/plain": [
              "<Figure size 640x480 with 1 Axes>"
            ],
            "image/png": "[encoded data removed]"
          },
          "metadata": {}
        }
      ]
    },
    {
      "cell_type": "code",
      "source": [
        "def kick(foot, direction):\n",
        "  shot = pd.DataFrame({'foot_used': [foot], 'direction_of_shot': [direction]})\n",
        "  shot_enc = encoding(shot)\n",
        "  return np.array(shot_enc)"
      ],
      "metadata": {
        "collapsed": true,
        "id": "09luRu5RnGes"
      },
      "execution_count": 141,
      "outputs": []
    },
    {
      "cell_type": "code",
      "source": [
        "def predictions():\n",
        "  foot = ['right', 'left']\n",
        "  direction = ['top-left', 'top-right', 'bottom-left', 'bottom-right', 'center']\n",
        "  lf = []\n",
        "  rf = []\n",
        "  for i in direction:\n",
        "    rf.append({(foot[0], i):model.predict(kick(foot[0], i))})\n",
        "    lf.append({(foot[1], i):model.predict(kick(foot[1], i))})\n",
        "  return lf, rf\n",
        "\n",
        "td, kl = predictions()\n",
        "for i in kl:\n",
        "  print(f'right-foot:{i}')\n",
        "for i in td:\n",
        "  print(f'left-foot:{i}')"
      ],
      "metadata": {
        "colab": {
          "base_uri": "https://localhost:8080/"
        },
        "id": "b-FBY2W5HQmo",
        "outputId": "b8d65f2e-e937-495a-c90b-b46dd5021cc0"
      },
      "execution_count": 144,
      "outputs": [
        {
          "output_type": "stream",
          "name": "stdout",
          "text": [
            "\u001b[1m1/1\u001b[0m \u001b[32m━━━━━━━━━━━━━━━━━━━━\u001b[0m\u001b[37m\u001b[0m \u001b[1m0s\u001b[0m 37ms/step\n",
            "\u001b[1m1/1\u001b[0m \u001b[32m━━━━━━━━━━━━━━━━━━━━\u001b[0m\u001b[37m\u001b[0m \u001b[1m0s\u001b[0m 35ms/step\n",
            "\u001b[1m1/1\u001b[0m \u001b[32m━━━━━━━━━━━━━━━━━━━━\u001b[0m\u001b[37m\u001b[0m \u001b[1m0s\u001b[0m 43ms/step\n",
            "\u001b[1m1/1\u001b[0m \u001b[32m━━━━━━━━━━━━━━━━━━━━\u001b[0m\u001b[37m\u001b[0m \u001b[1m0s\u001b[0m 37ms/step\n",
            "\u001b[1m1/1\u001b[0m \u001b[32m━━━━━━━━━━━━━━━━━━━━\u001b[0m\u001b[37m\u001b[0m \u001b[1m0s\u001b[0m 42ms/step\n",
            "\u001b[1m1/1\u001b[0m \u001b[32m━━━━━━━━━━━━━━━━━━━━\u001b[0m\u001b[37m\u001b[0m \u001b[1m0s\u001b[0m 40ms/step\n",
            "\u001b[1m1/1\u001b[0m \u001b[32m━━━━━━━━━━━━━━━━━━━━\u001b[0m\u001b[37m\u001b[0m \u001b[1m0s\u001b[0m 36ms/step\n",
            "\u001b[1m1/1\u001b[0m \u001b[32m━━━━━━━━━━━━━━━━━━━━\u001b[0m\u001b[37m\u001b[0m \u001b[1m0s\u001b[0m 40ms/step\n",
            "\u001b[1m1/1\u001b[0m \u001b[32m━━━━━━━━━━━━━━━━━━━━\u001b[0m\u001b[37m\u001b[0m \u001b[1m0s\u001b[0m 37ms/step\n",
            "\u001b[1m1/1\u001b[0m \u001b[32m━━━━━━━━━━━━━━━━━━━━\u001b[0m\u001b[37m\u001b[0m \u001b[1m0s\u001b[0m 35ms/step\n",
            "right-foot:{('right', 'top-left'): array([[0.7858874]], dtype=float32)}\n",
            "right-foot:{('right', 'top-right'): array([[0.77926815]], dtype=float32)}\n",
            "right-foot:{('right', 'bottom-left'): array([[0.7731908]], dtype=float32)}\n",
            "right-foot:{('right', 'bottom-right'): array([[0.76978314]], dtype=float32)}\n",
            "right-foot:{('right', 'center'): array([[0.7692917]], dtype=float32)}\n",
            "left-foot:{('left', 'top-left'): array([[0.8071362]], dtype=float32)}\n",
            "left-foot:{('left', 'top-right'): array([[0.80183583]], dtype=float32)}\n",
            "left-foot:{('left', 'bottom-left'): array([[0.79622304]], dtype=float32)}\n",
            "left-foot:{('left', 'bottom-right'): array([[0.790714]], dtype=float32)}\n",
            "left-foot:{('left', 'center'): array([[0.78921676]], dtype=float32)}\n"
          ]
        }
      ]
    }
  ]
}